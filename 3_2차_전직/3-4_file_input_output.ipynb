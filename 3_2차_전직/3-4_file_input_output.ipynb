{
 "cells": [
  {
   "cell_type": "markdown",
   "metadata": {},
   "source": [
    "# 진정한 강자로 성장하라!\n",
    "제 4장: 파일 입출력 (File I/O)"
   ]
  },
  {
   "cell_type": "markdown",
   "metadata": {},
   "source": [
    "### 파일 쓰기"
   ]
  },
  {
   "cell_type": "code",
   "execution_count": 3,
   "metadata": {},
   "outputs": [],
   "source": [
    "name = \"admin\"\n",
    "hp = 100\n",
    "max_hp = 100\n",
    "atk = 10\n",
    "exp = 0\n",
    "max_exp = 1000\n",
    "level = 10\n",
    "\n",
    "with open(\"test.txt\", \"w\") as f:\n",
    "    f.write(f\"{name}, {hp}, {max_hp}, {atk}, {exp}, {max_exp}, {level}\")"
   ]
  },
  {
   "cell_type": "markdown",
   "metadata": {},
   "source": [
    "### 파일 읽기"
   ]
  },
  {
   "cell_type": "code",
   "execution_count": 5,
   "metadata": {},
   "outputs": [
    {
     "name": "stdout",
     "output_type": "stream",
     "text": [
      "admin, 100, 100, 10, 0, 1000, 10\n"
     ]
    }
   ],
   "source": [
    "with open(\"test.txt\", \"r\") as f:\n",
    "    data = f.read()\n",
    "    \n",
    "print(data)"
   ]
  },
  {
   "cell_type": "code",
   "execution_count": null,
   "metadata": {},
   "outputs": [],
   "source": [
    "try:\n",
    "    data = input(\"입력해주세요: \")\n",
    "    num = int(data)\n",
    "    print(num)\n",
    "except:\n",
    "    print(\"error\")\n",
    "else:\n",
    "    print(\"no error\")\n",
    "finally:\n",
    "    print(\"finally\")\n"
   ]
  }
 ],
 "metadata": {
  "kernelspec": {
   "display_name": "Python 3",
   "language": "python",
   "name": "python3"
  },
  "language_info": {
   "codemirror_mode": {
    "name": "ipython",
    "version": 3
   },
   "file_extension": ".py",
   "mimetype": "text/x-python",
   "name": "python",
   "nbconvert_exporter": "python",
   "pygments_lexer": "ipython3",
   "version": "3.10.6"
  }
 },
 "nbformat": 4,
 "nbformat_minor": 2
}
