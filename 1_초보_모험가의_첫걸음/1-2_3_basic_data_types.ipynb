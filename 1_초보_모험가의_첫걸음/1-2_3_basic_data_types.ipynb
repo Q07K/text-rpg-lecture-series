{
 "cells": [
  {
   "cell_type": "markdown",
   "metadata": {},
   "source": [
    "## 초보 모험가의 첫 걸음\n",
    "제 2장: Python의 기본 데이터 타입\n",
    "\n",
    "제 3장: Python의 기본 데이터 타입 연산"
   ]
  },
  {
   "cell_type": "markdown",
   "metadata": {},
   "source": [
    "### 체력: 정수형(int)"
   ]
  },
  {
   "cell_type": "markdown",
   "metadata": {},
   "source": [
    "체력 정의"
   ]
  },
  {
   "cell_type": "code",
   "execution_count": null,
   "metadata": {},
   "outputs": [
    {
     "name": "stdout",
     "output_type": "stream",
     "text": [
      "체력: 1000/1000\n"
     ]
    }
   ],
   "source": [
    "max_hp = 1000\n",
    "hp = 1000\n",
    "print(f\"체력: {hp}/{max_hp}\")"
   ]
  },
  {
   "cell_type": "markdown",
   "metadata": {},
   "source": [
    "체력 감소: 정수 뺄셈(방법 1)"
   ]
  },
  {
   "cell_type": "code",
   "execution_count": null,
   "metadata": {},
   "outputs": [
    {
     "name": "stdout",
     "output_type": "stream",
     "text": [
      "체력: 990/1000\n"
     ]
    }
   ],
   "source": [
    "hp = hp - 10\n",
    "print(f\"체력: {hp}/{max_hp}\")"
   ]
  },
  {
   "cell_type": "markdown",
   "metadata": {},
   "source": [
    "체력 감소: 정수 뺄셈(방법 2)"
   ]
  },
  {
   "cell_type": "code",
   "execution_count": null,
   "metadata": {},
   "outputs": [
    {
     "name": "stdout",
     "output_type": "stream",
     "text": [
      "체력: 980/1000\n"
     ]
    }
   ],
   "source": [
    "hp -= 10\n",
    "print(f\"체력: {hp}/{max_hp}\")"
   ]
  },
  {
   "cell_type": "markdown",
   "metadata": {},
   "source": [
    "체력 회복: 정수 덧셈(방법 1)"
   ]
  },
  {
   "cell_type": "code",
   "execution_count": null,
   "metadata": {},
   "outputs": [
    {
     "name": "stdout",
     "output_type": "stream",
     "text": [
      "체력: 990/1000\n"
     ]
    }
   ],
   "source": [
    "hp = hp + 10\n",
    "print(f\"체력: {hp}/{max_hp}\")"
   ]
  },
  {
   "cell_type": "markdown",
   "metadata": {},
   "source": [
    "체력 회복: 정수 덧셈(방법 2)"
   ]
  },
  {
   "cell_type": "code",
   "execution_count": null,
   "metadata": {},
   "outputs": [
    {
     "name": "stdout",
     "output_type": "stream",
     "text": [
      "체력: 1000/1000\n"
     ]
    }
   ],
   "source": [
    "hp += 10\n",
    "print(f\"체력: {hp}/{max_hp}\")"
   ]
  },
  {
   "cell_type": "markdown",
   "metadata": {},
   "source": [
    "최대 체력 증가: 정수 곱셈(방법 1)"
   ]
  },
  {
   "cell_type": "code",
   "execution_count": null,
   "metadata": {},
   "outputs": [
    {
     "name": "stdout",
     "output_type": "stream",
     "text": [
      "체력: 1000/2000\n"
     ]
    }
   ],
   "source": [
    "max_hp = max_hp * 2\n",
    "print(f\"체력: {hp}/{max_hp}\")"
   ]
  },
  {
   "cell_type": "markdown",
   "metadata": {},
   "source": [
    "최대 체력 증가: 정수 곱셈(방법 2)"
   ]
  },
  {
   "cell_type": "code",
   "execution_count": null,
   "metadata": {},
   "outputs": [
    {
     "name": "stdout",
     "output_type": "stream",
     "text": [
      "체력: 1000/4000\n"
     ]
    }
   ],
   "source": [
    "max_hp *= 2\n",
    "print(f\"체력: {hp}/{max_hp}\")"
   ]
  },
  {
   "cell_type": "markdown",
   "metadata": {},
   "source": [
    "최대 체력 감소: 정수 나눗셈(방법 1)"
   ]
  },
  {
   "cell_type": "code",
   "execution_count": null,
   "metadata": {},
   "outputs": [
    {
     "name": "stdout",
     "output_type": "stream",
     "text": [
      "체력: 1000/2000.0\n"
     ]
    }
   ],
   "source": [
    "max_hp = max_hp / 2\n",
    "print(f\"체력: {hp}/{max_hp}\")"
   ]
  },
  {
   "cell_type": "markdown",
   "metadata": {},
   "source": [
    "최대 체력 감소: 정수 나눗셈(방법 2)"
   ]
  },
  {
   "cell_type": "code",
   "execution_count": null,
   "metadata": {},
   "outputs": [
    {
     "name": "stdout",
     "output_type": "stream",
     "text": [
      "체력: 1000/1000.0\n"
     ]
    }
   ],
   "source": [
    "max_hp /= 2\n",
    "print(f\"체력: {hp}/{max_hp}\")"
   ]
  },
  {
   "cell_type": "markdown",
   "metadata": {},
   "source": [
    "### 경험치: 정수형(float)"
   ]
  },
  {
   "cell_type": "markdown",
   "metadata": {},
   "source": [
    "경험치 정의"
   ]
  },
  {
   "cell_type": "code",
   "execution_count": null,
   "metadata": {},
   "outputs": [
    {
     "name": "stdout",
     "output_type": "stream",
     "text": [
      "경험치: 0/100\n"
     ]
    }
   ],
   "source": [
    "max_exp = 100\n",
    "exp = 0\n",
    "print(f\"경험치: {exp}/{max_exp}\")"
   ]
  },
  {
   "cell_type": "markdown",
   "metadata": {},
   "source": [
    "경험치 획득: 정수 덧셈"
   ]
  },
  {
   "cell_type": "code",
   "execution_count": null,
   "metadata": {},
   "outputs": [
    {
     "name": "stdout",
     "output_type": "stream",
     "text": [
      "경험치: 10/100\n"
     ]
    }
   ],
   "source": [
    "exp += 10\n",
    "print(f\"경험치: {exp}/{max_exp}\")"
   ]
  },
  {
   "cell_type": "markdown",
   "metadata": {},
   "source": [
    "경험치 비율: 정수 나눗셈 및 문자열 포맷팅"
   ]
  },
  {
   "cell_type": "code",
   "execution_count": null,
   "metadata": {},
   "outputs": [
    {
     "name": "stdout",
     "output_type": "stream",
     "text": [
      "경험치: 10.00%\n"
     ]
    }
   ],
   "source": [
    "print(f\"경험치: {exp/max_exp:.2%}\")"
   ]
  },
  {
   "cell_type": "markdown",
   "metadata": {},
   "source": [
    "### 캐릭터 이름: 문자열(str)"
   ]
  },
  {
   "cell_type": "markdown",
   "metadata": {},
   "source": [
    "모험가 두 번 부르기: 문자열 덧셈"
   ]
  },
  {
   "cell_type": "code",
   "execution_count": 45,
   "metadata": {},
   "outputs": [
    {
     "name": "stdout",
     "output_type": "stream",
     "text": [
      "모험가님!모험가님!\n"
     ]
    }
   ],
   "source": [
    "request = \"모험가님!\"\n",
    "print(request * 2)"
   ]
  },
  {
   "cell_type": "markdown",
   "metadata": {},
   "source": [
    "캐릭터 이름 입력: input 함수 사용"
   ]
  },
  {
   "cell_type": "code",
   "execution_count": 38,
   "metadata": {},
   "outputs": [
    {
     "name": "stdout",
     "output_type": "stream",
     "text": [
      "입력하신 이름은 '햄부기햄북' 입니다.\n"
     ]
    }
   ],
   "source": [
    "name = input(\"이름을 입력해주세요 : \")\n",
    "print(f\"입력하신 이름은 '{name}' 입니다.\")"
   ]
  },
  {
   "cell_type": "markdown",
   "metadata": {},
   "source": [
    "### 적 목록: 리스트(list)"
   ]
  },
  {
   "cell_type": "markdown",
   "metadata": {},
   "source": [
    "적 목록 정의"
   ]
  },
  {
   "cell_type": "code",
   "execution_count": null,
   "metadata": {},
   "outputs": [
    {
     "name": "stdout",
     "output_type": "stream",
     "text": [
      "몬스터: ['슬라임', '고블린', '슬라임']\n"
     ]
    }
   ],
   "source": [
    "monster_list = [\"슬라임\", \"고블린\", \"슬라임\"]\n",
    "print(f\"몬스터: {monster_list}\")"
   ]
  },
  {
   "cell_type": "markdown",
   "metadata": {},
   "source": [
    "### 몬스터 정보: 딕셔너리(dict)"
   ]
  },
  {
   "cell_type": "markdown",
   "metadata": {},
   "source": [
    "몬스터 정보 정의"
   ]
  },
  {
   "cell_type": "code",
   "execution_count": 2,
   "metadata": {},
   "outputs": [
    {
     "name": "stdout",
     "output_type": "stream",
     "text": [
      "몬스터: {'name': '슬라임', 'atk': 10, 'hp': 100}\n"
     ]
    }
   ],
   "source": [
    "monster1 = {\n",
    "    \"name\": \"슬라임\",\n",
    "    \"atk\": 10,\n",
    "    \"hp\": 100,\n",
    "}\n",
    "print(f\"몬스터: {monster1}\")"
   ]
  },
  {
   "cell_type": "markdown",
   "metadata": {},
   "source": [
    "몬스터 정보 추가"
   ]
  },
  {
   "cell_type": "code",
   "execution_count": 51,
   "metadata": {},
   "outputs": [
    {
     "name": "stdout",
     "output_type": "stream",
     "text": [
      "몬스터: {'name': '슬라임', 'atk': 10, 'hp': 100, 'exp_value': 10}\n"
     ]
    }
   ],
   "source": [
    "monster1[\"exp_value\"] = 10\n",
    "print(f\"몬스터: {monster1}\")"
   ]
  },
  {
   "cell_type": "markdown",
   "metadata": {},
   "source": [
    "몬스터 정보 조회하기"
   ]
  },
  {
   "cell_type": "code",
   "execution_count": 53,
   "metadata": {},
   "outputs": [
    {
     "name": "stdout",
     "output_type": "stream",
     "text": [
      "몬스터 이름: 슬라임\n"
     ]
    }
   ],
   "source": [
    "name = monster1[\"name\"]\n",
    "print(f\"몬스터 이름: { name}\")"
   ]
  },
  {
   "cell_type": "markdown",
   "metadata": {},
   "source": [
    "### 몬스터 도감: 집합(set)"
   ]
  },
  {
   "cell_type": "markdown",
   "metadata": {},
   "source": [
    "몬스터 도감 정의"
   ]
  },
  {
   "cell_type": "code",
   "execution_count": 46,
   "metadata": {},
   "outputs": [
    {
     "name": "stdout",
     "output_type": "stream",
     "text": [
      "몬스터 도감: set()\n"
     ]
    }
   ],
   "source": [
    "monster_slain_list = set()\n",
    "print(f\"몬스터 도감: {monster_slain_list}\")"
   ]
  },
  {
   "cell_type": "markdown",
   "metadata": {},
   "source": [
    "몬스터 도감 추가"
   ]
  },
  {
   "cell_type": "code",
   "execution_count": 47,
   "metadata": {},
   "outputs": [
    {
     "name": "stdout",
     "output_type": "stream",
     "text": [
      "몬스터 도감: {'고블린', '슬라임'}\n"
     ]
    }
   ],
   "source": [
    "monster_slain_list.add(\"슬라임\")\n",
    "monster_slain_list.add(\"고블린\")\n",
    "monster_slain_list.add(\"슬라임\")\n",
    "\n",
    "print(f\"몬스터 도감: {monster_slain_list}\")"
   ]
  },
  {
   "cell_type": "markdown",
   "metadata": {},
   "source": [
    "몬스터 도감 제거"
   ]
  },
  {
   "cell_type": "code",
   "execution_count": 48,
   "metadata": {},
   "outputs": [
    {
     "name": "stdout",
     "output_type": "stream",
     "text": [
      "몬스터 도감: {'고블린'}\n"
     ]
    }
   ],
   "source": [
    "monster_slain_list.remove(\"슬라임\")\n",
    "print(f\"몬스터 도감: {monster_slain_list}\")"
   ]
  },
  {
   "cell_type": "markdown",
   "metadata": {},
   "source": [
    "### 아이템 속성: 튜플(tuple)"
   ]
  },
  {
   "cell_type": "markdown",
   "metadata": {},
   "source": [
    "무기 속성 정의"
   ]
  },
  {
   "cell_type": "code",
   "execution_count": 50,
   "metadata": {},
   "outputs": [
    {
     "name": "stdout",
     "output_type": "stream",
     "text": [
      "item_name = 'Excalibur'\n",
      "item_category = 'Sword'\n",
      "item_price = 1000\n"
     ]
    }
   ],
   "source": [
    "item = (\"Excalibur\", \"Sword\", 1000)\n",
    "item_name, item_category, item_price = item\n",
    "\n",
    "print(f\"{item_name = }\\n{item_category = }\\n{item_price = }\")"
   ]
  }
 ],
 "metadata": {
  "kernelspec": {
   "display_name": "Python 3",
   "language": "python",
   "name": "python3"
  },
  "language_info": {
   "codemirror_mode": {
    "name": "ipython",
    "version": 3
   },
   "file_extension": ".py",
   "mimetype": "text/x-python",
   "name": "python",
   "nbconvert_exporter": "python",
   "pygments_lexer": "ipython3",
   "version": "3.10.6"
  }
 },
 "nbformat": 4,
 "nbformat_minor": 2
}
