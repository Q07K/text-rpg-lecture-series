{
 "cells": [
  {
   "cell_type": "markdown",
   "metadata": {},
   "source": [
    "## 초보 모험가의 첫 걸음\n",
    "제 4장: 조건문과 논리 연산자\n"
   ]
  },
  {
   "cell_type": "markdown",
   "metadata": {},
   "source": [
    "```python\n",
    "if <조건>:\n",
    "    <코드>\n",
    "elif <조건>:\n",
    "    <코드>\n",
    "else:\n",
    "    <코드>\n",
    "```"
   ]
  },
  {
   "cell_type": "markdown",
   "metadata": {},
   "source": [
    "### 캐릭터의 레벨에 따른 메시지 출력"
   ]
  },
  {
   "cell_type": "code",
   "execution_count": null,
   "metadata": {},
   "outputs": [],
   "source": [
    "level = 15\n",
    "\n",
    "if level >= 10:\n",
    "    print(\"10레벨 이상입니다!\")\n",
    "\n",
    "if level >= 20:\n",
    "    print(\"20레벨 이상입니다!\")\n",
    "else:\n",
    "    print(\"20레벨 미만입니다.\")"
   ]
  },
  {
   "cell_type": "markdown",
   "metadata": {},
   "source": [
    "### 캐릭터의 체력에 따른 상태 출력"
   ]
  },
  {
   "cell_type": "code",
   "execution_count": null,
   "metadata": {},
   "outputs": [],
   "source": [
    "hp = 50\n",
    "\n",
    "if hp > 70:\n",
    "    print(\"안전합니다.\")\n",
    "elif hp > 30:\n",
    "    print(\"버틸 수 있어요.\")\n",
    "else:\n",
    "    print(\"위험합니다!\")\n"
   ]
  },
  {
   "cell_type": "markdown",
   "metadata": {},
   "source": [
    "### 논리 연산자 활용 (and, or, not)\n"
   ]
  },
  {
   "cell_type": "code",
   "execution_count": null,
   "metadata": {},
   "outputs": [],
   "source": [
    "gold = 150\n",
    "has_sword = False\n",
    "\n",
    "if gold >= 100 and not has_sword:\n",
    "    print(\"검을 구매할 수 있습니다!\")\n",
    "    has_sword = True\n",
    "else:\n",
    "    print(\"검을 구매할 수 없습니다.\")\n",
    "\n",
    "if gold >= 50 or has_sword:\n",
    "    print(\"당신은 전투 준비가 되었습니다!\")\n"
   ]
  },
  {
   "cell_type": "markdown",
   "metadata": {},
   "source": [
    "### 중첩된 조건문 (상점 방문)\n"
   ]
  },
  {
   "cell_type": "code",
   "execution_count": null,
   "metadata": {},
   "outputs": [],
   "source": [
    "\n",
    "is_shop_open = True\n",
    "has_gold = True\n",
    "\n",
    "if is_shop_open:\n",
    "    if has_gold:\n",
    "        print(\"상점이 열려있고, 돈도 있어서 아이템을 구매할 수 있습니다.\")\n",
    "    else:\n",
    "        print(\"상점은 열려있지만, 돈이 없어서 구매할 수 없습니다.\")\n",
    "else:\n",
    "    print(\"상점이 닫혀있습니다.\")\n"
   ]
  },
  {
   "cell_type": "markdown",
   "metadata": {},
   "source": [
    "### 여러 조건을 확인하는 경우\n"
   ]
  },
  {
   "cell_type": "code",
   "execution_count": null,
   "metadata": {},
   "outputs": [],
   "source": [
    "monster_type = \"슬라임\"\n",
    "monster_level = 5\n",
    "\n",
    "if monster_type == \"슬라임\" and monster_level < 10:\n",
    "    print(\"초보 몬스터입니다.\")\n",
    "elif monster_type == \"고블린\" or monster_level >= 10:\n",
    "    print(\"주의해야 할 몬스터입니다.\")\n",
    "else:\n",
    "    print(\"알 수 없는 몬스터입니다.\")"
   ]
  }
 ],
 "metadata": {
  "language_info": {
   "name": "python"
  }
 },
 "nbformat": 4,
 "nbformat_minor": 2
}
