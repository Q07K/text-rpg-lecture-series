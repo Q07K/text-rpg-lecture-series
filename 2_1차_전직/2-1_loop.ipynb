{
 "cells": [
  {
   "cell_type": "markdown",
   "metadata": {},
   "source": [
    "## 스킬을 배워라!\n",
    "제 1장: 반복문 이해 및 활용"
   ]
  },
  {
   "cell_type": "markdown",
   "metadata": {},
   "source": [
    "### for loop 이해\n",
    "```python\n",
    "for <변수> in <순회 가능한 자료>:\n",
    "    <코드>\n",
    "```"
   ]
  },
  {
   "cell_type": "code",
   "execution_count": 1,
   "metadata": {},
   "outputs": [
    {
     "name": "stdout",
     "output_type": "stream",
     "text": [
      "hi\n",
      "hi\n",
      "hi\n",
      "hi\n",
      "hi\n",
      "hi\n",
      "hi\n",
      "hi\n",
      "hi\n",
      "hi\n"
     ]
    }
   ],
   "source": [
    "for i in range(10):\n",
    "    print(\"hi\")"
   ]
  },
  {
   "cell_type": "markdown",
   "metadata": {},
   "source": [
    "### while 이해\n",
    "```python\n",
    "while <조건>:\n",
    "    <코드>\n",
    "```"
   ]
  },
  {
   "cell_type": "code",
   "execution_count": 6,
   "metadata": {},
   "outputs": [
    {
     "name": "stdout",
     "output_type": "stream",
     "text": [
      "1\n",
      "1\n",
      "1\n",
      "1\n",
      "1\n",
      "1\n",
      "1\n",
      "1\n",
      "1\n",
      "1\n"
     ]
    }
   ],
   "source": [
    "count = 0\n",
    "while count < 10:\n",
    "    print(1)\n",
    "    count += 1"
   ]
  },
  {
   "cell_type": "markdown",
   "metadata": {},
   "source": [
    "### for loop에서 continue와 break\n"
   ]
  },
  {
   "cell_type": "code",
   "execution_count": 2,
   "metadata": {},
   "outputs": [
    {
     "name": "stdout",
     "output_type": "stream",
     "text": [
      "for loop 예시:\n",
      "현재 숫자: 1\n",
      "현재 숫자: 3\n",
      "현재 숫자: 5\n",
      "for loop 종료\n"
     ]
    }
   ],
   "source": [
    "print(\"for loop 예시:\")\n",
    "\n",
    "for i in range(1, 11):\n",
    "    if i % 2 == 0:\n",
    "        continue  # 짝수일 경우, 현재 반복을 건너뛰고 다음 반복으로 진행\n",
    "    if i == 7:\n",
    "        break  # i가 7일 경우, 반복문을 완전히 종료\n",
    "    print(f\"현재 숫자: {i}\")\n",
    "\n",
    "print(\"for loop 종료\")\n"
   ]
  },
  {
   "cell_type": "markdown",
   "metadata": {},
   "source": [
    "### while loop에서 continue와 break\n"
   ]
  },
  {
   "cell_type": "code",
   "execution_count": 3,
   "metadata": {},
   "outputs": [
    {
     "name": "stdout",
     "output_type": "stream",
     "text": [
      "\n",
      "while loop 예시:\n",
      "현재 카운트: 1\n",
      "현재 카운트: 2\n",
      "현재 카운트: 4\n",
      "현재 카운트: 5\n",
      "현재 카운트: 7\n",
      "while loop 종료\n"
     ]
    }
   ],
   "source": [
    "print(\"\\nwhile loop 예시:\")\n",
    "\n",
    "count = 0\n",
    "while count < 10:\n",
    "    count += 1\n",
    "    if count % 3 == 0:\n",
    "        continue  # 3의 배수일 경우, 현재 반복을 건너뛰고 다음 반복으로 진행\n",
    "    if count == 8:\n",
    "        break  # count가 8일 경우, 반복문을 완전히 종료\n",
    "    print(f\"현재 카운트: {count}\")\n",
    "\n",
    "print(\"while loop 종료\")\n"
   ]
  },
  {
   "cell_type": "markdown",
   "metadata": {},
   "source": [
    "### continue와 break의 활용 예시 (게임 시나리오)\n"
   ]
  },
  {
   "cell_type": "code",
   "execution_count": 4,
   "metadata": {},
   "outputs": [
    {
     "name": "stdout",
     "output_type": "stream",
     "text": [
      "\n",
      "게임 시나리오 예시:\n",
      "인벤토리 확인 중...\n",
      "물약을 발견했습니다. 사용하지 않고 다음 아이템을 확인합니다.\n",
      "검을 발견했습니다. 장착합니다.\n",
      "인벤토리 확인 완료\n"
     ]
    }
   ],
   "source": [
    "print(\"\\n게임 시나리오 예시:\")\n",
    "\n",
    "inventory = [\"물약\", \"검\", \"방패\", \"물약\", \"갑옷\"]\n",
    "\n",
    "print(\"인벤토리 확인 중...\")\n",
    "for item in inventory:\n",
    "    if item == \"물약\":\n",
    "        print(\"물약을 발견했습니다. 사용하지 않고 다음 아이템을 확인합니다.\")\n",
    "        continue  # 물약은 사용하지 않고 다음 아이템으로 넘어감\n",
    "    if item == \"검\":\n",
    "        print(\"검을 발견했습니다. 장착합니다.\")\n",
    "        break  # 검을 찾으면 바로 장착하고 인벤토리 확인을 중단\n",
    "    print(f\"아이템: {item}\")\n",
    "\n",
    "print(\"인벤토리 확인 완료\")\n"
   ]
  },
  {
   "cell_type": "markdown",
   "metadata": {},
   "source": [
    "### continue와 break의 활용 예시 (숫자 찾기)\n"
   ]
  },
  {
   "cell_type": "code",
   "execution_count": 5,
   "metadata": {},
   "outputs": [
    {
     "name": "stdout",
     "output_type": "stream",
     "text": [
      "\n",
      "숫자 찾기 예시:\n",
      "5의 배수 발견: 5\n",
      "5의 배수 발견: 10\n",
      "5의 배수 발견: 15\n",
      "5의 배수 발견: 20\n"
     ]
    }
   ],
   "source": [
    "print(\"\\n숫자 찾기 예시:\")\n",
    "\n",
    "for number in range(1, 21):\n",
    "    if number % 5 != 0:\n",
    "        continue\n",
    "    print(f\"5의 배수 발견: {number}\")\n"
   ]
  }
 ],
 "metadata": {
  "kernelspec": {
   "display_name": "Python 3",
   "language": "python",
   "name": "python3"
  },
  "language_info": {
   "codemirror_mode": {
    "name": "ipython",
    "version": 3
   },
   "file_extension": ".py",
   "mimetype": "text/x-python",
   "name": "python",
   "nbconvert_exporter": "python",
   "pygments_lexer": "ipython3",
   "version": "3.10.6"
  }
 },
 "nbformat": 4,
 "nbformat_minor": 2
}
